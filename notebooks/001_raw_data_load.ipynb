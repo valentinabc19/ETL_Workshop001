{
 "cells": [
  {
   "cell_type": "markdown",
   "metadata": {},
   "source": [
    "# Notebook 001 - Carga de datos no procesados\n",
    "Este notebook establece una conexion a una base de datos PostgreSQL y carga el dataset candidates.csv sin procesar. Estos datos serán limpiados en otro notebook. "
   ]
  },
  {
   "cell_type": "markdown",
   "metadata": {},
   "source": [
    "Inicialmente, se agrega el directorio workshop001 al path del sistema para poder importar el paquete scripts y hacer uso del script db_connector para generar la conexion a la base de datos."
   ]
  },
  {
   "cell_type": "code",
   "execution_count": 6,
   "metadata": {},
   "outputs": [],
   "source": [
    "import sys\n",
    "import os\n",
    "\n",
    "sys.path.append(os.path.abspath(\"..\"))"
   ]
  },
  {
   "cell_type": "code",
   "execution_count": 7,
   "metadata": {},
   "outputs": [],
   "source": [
    "from scripts.db_connector import get_db_engine"
   ]
  },
  {
   "cell_type": "markdown",
   "metadata": {},
   "source": [
    "\n",
    "#### Postgres Connection\n",
    "Se hace la conexión a la base de datos usando la funcion creada en el script importado"
   ]
  },
  {
   "cell_type": "code",
   "execution_count": 8,
   "metadata": {},
   "outputs": [],
   "source": [
    "conn = get_db_engine()"
   ]
  },
  {
   "cell_type": "markdown",
   "metadata": {},
   "source": [
    "#### Creación de la tabla \"candidates_initial_data\""
   ]
  },
  {
   "cell_type": "code",
   "execution_count": 9,
   "metadata": {},
   "outputs": [],
   "source": [
    "cur = conn.cursor()\n",
    "\n",
    "cur.execute(\"\"\"CREATE TABLE candidates_initial_data (\n",
    "            id SERIAL PRIMARY KEY,\n",
    "            first_name TEXT,\n",
    "            last_name TEXT,\n",
    "            email TEXT,\n",
    "            application_date DATE,\n",
    "            country TEXT,\n",
    "            yoe INT, \n",
    "            seniority TEXT,\n",
    "            technology TEXT,\n",
    "            code_challenge_score INT,\n",
    "            technical_interview_score INT);\n",
    "\"\"\")\n",
    "\n",
    "conn.commit()"
   ]
  },
  {
   "cell_type": "markdown",
   "metadata": {},
   "source": [
    "Establecer el directorio de trabajo, el siguiente bloque de codigo debe correrse solo una vez para establecer eñ directorio de trabajo correcto"
   ]
  },
  {
   "cell_type": "code",
   "execution_count": 10,
   "metadata": {},
   "outputs": [],
   "source": [
    "csv_file_path = os.path.join(os.getcwd(), \"data\", \"candidates.csv\")\n",
    "\n",
    "table_name = 'candidates_initial_data'\n",
    "\n",
    "copy_sql = f\"\"\"\n",
    "           COPY candidates_initial_data (first_name, last_name, email, application_date, country, yoe, seniority, technology, code_challenge_score, technical_interview_score)\n",
    "           FROM stdin \n",
    "           DELIMITER ';' \n",
    "           CSV HEADER;\n",
    "           \"\"\"\n",
    "with open(csv_file_path, 'r') as f:\n",
    "    cur.copy_expert(sql=copy_sql, file=f)\n",
    "\n",
    "conn.commit()\n",
    "\n",
    "conn.close()"
   ]
  },
  {
   "cell_type": "markdown",
   "metadata": {},
   "source": [
    "verificar conexion haciendo un select PENDIENTE!!!"
   ]
  }
 ],
 "metadata": {
  "kernelspec": {
   "display_name": "venv",
   "language": "python",
   "name": "python3"
  },
  "language_info": {
   "codemirror_mode": {
    "name": "ipython",
    "version": 3
   },
   "file_extension": ".py",
   "mimetype": "text/x-python",
   "name": "python",
   "nbconvert_exporter": "python",
   "pygments_lexer": "ipython3",
   "version": "3.11.9"
  }
 },
 "nbformat": 4,
 "nbformat_minor": 2
}
