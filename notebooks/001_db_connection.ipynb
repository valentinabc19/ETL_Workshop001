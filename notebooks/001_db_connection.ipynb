{
 "cells": [
  {
   "cell_type": "code",
   "execution_count": 1,
   "metadata": {},
   "outputs": [],
   "source": [
    "import os\n",
    "import psycopg2\n",
    "import json"
   ]
  },
  {
   "cell_type": "markdown",
   "metadata": {},
   "source": [
    "En este caso se va a suponer que la DB esta creada de antemano en Postgres\n",
    "### Postgres Connection"
   ]
  },
  {
   "cell_type": "code",
   "execution_count": 2,
   "metadata": {},
   "outputs": [
    {
     "name": "stdout",
     "output_type": "stream",
     "text": [
      "c:\\Users\\valen\\Desktop\\Workshop001\n"
     ]
    }
   ],
   "source": [
    "os.chdir(\"..\")\n",
    "print(os.getcwd())"
   ]
  },
  {
   "cell_type": "code",
   "execution_count": 3,
   "metadata": {},
   "outputs": [],
   "source": [
    "with open (\"credentials.json\", \"r\", encoding=\"utf-8\") as file:\n",
    "    credentials = json.load(file)"
   ]
  },
  {
   "cell_type": "markdown",
   "metadata": {},
   "source": [
    "Para acceder a la DB en este caso se debe tener un archivo llamado credentials.json que contenga las credenciales de la db a la aque se quiere hacer la conexión"
   ]
  },
  {
   "cell_type": "code",
   "execution_count": 4,
   "metadata": {},
   "outputs": [],
   "source": [
    "db_host = credentials[\"db_host\"]\n",
    "db_name = credentials[\"db_name\"]\n",
    "db_user = credentials[\"db_user\"]\n",
    "db_password = credentials[\"db_password\"]\n",
    "\n",
    "conn = psycopg2.connect(\n",
    "    host=db_host,\n",
    "    dbname=db_name,\n",
    "    user=db_user,\n",
    "    password=db_password\n",
    ")"
   ]
  },
  {
   "cell_type": "markdown",
   "metadata": {},
   "source": [
    "Creación de la tabla \"candidates_raw_data\""
   ]
  },
  {
   "cell_type": "code",
   "execution_count": 5,
   "metadata": {},
   "outputs": [],
   "source": [
    "cur = conn.cursor()\n",
    "\n",
    "cur.execute(\"\"\"CREATE TABLE candidates_raw_data (\n",
    "            id SERIAL PRIMARY KEY,\n",
    "            first_name TEXT NOT NULL,\n",
    "            last_name TEXT NOT NULL,\n",
    "            email TEXT NOT NULL,\n",
    "            application_date DATE NOT NULL,\n",
    "            country TEXT NOT NULL,\n",
    "            yoe INT NOT NULL, \n",
    "            seniority TEXT NOT NULL,\n",
    "            technology TEXT NOT NULL,\n",
    "            code_challenge_score INT NOT NULL,\n",
    "            technical_interview_score INT NOT NULL);\n",
    "\"\"\")\n",
    "\n",
    "conn.commit()"
   ]
  },
  {
   "cell_type": "markdown",
   "metadata": {},
   "source": [
    "Establecer el directorio de trabajo, el siguiente bloque de codigo debe correrse solo una vez para establecer eñ directorio de trabajo correcto"
   ]
  },
  {
   "cell_type": "code",
   "execution_count": 6,
   "metadata": {},
   "outputs": [],
   "source": [
    "csv_file_path = os.path.join(os.getcwd(), \"data\", \"candidates.csv\")\n",
    "\n",
    "table_name = 'candidates_raw_data'\n",
    "\n",
    "copy_sql = f\"\"\"\n",
    "           COPY candidates_raw_data (first_name, last_name, email, application_date, country, yoe, seniority, technology, code_challenge_score, technical_interview_score)\n",
    "           FROM stdin \n",
    "           DELIMITER ';' \n",
    "           CSV HEADER;\n",
    "           \"\"\"\n",
    "with open(csv_file_path, 'r') as f:\n",
    "    cur.copy_expert(sql=copy_sql, file=f)\n",
    "\n",
    "conn.commit()\n",
    "\n",
    "conn.close()"
   ]
  }
 ],
 "metadata": {
  "kernelspec": {
   "display_name": "venv",
   "language": "python",
   "name": "python3"
  },
  "language_info": {
   "codemirror_mode": {
    "name": "ipython",
    "version": 3
   },
   "file_extension": ".py",
   "mimetype": "text/x-python",
   "name": "python",
   "nbconvert_exporter": "python",
   "pygments_lexer": "ipython3",
   "version": "3.11.9"
  }
 },
 "nbformat": 4,
 "nbformat_minor": 2
}
